{
  "nbformat": 4,
  "nbformat_minor": 0,
  "metadata": {
    "colab": {
      "provenance": []
    },
    "kernelspec": {
      "name": "python3",
      "display_name": "Python 3"
    },
    "language_info": {
      "name": "python"
    }
  },
  "cells": [
    {
      "cell_type": "markdown",
      "source": [
        "# Function for question 1"
      ],
      "metadata": {
        "id": "Z4rmSoi3pH1d"
      }
    },
    {
      "cell_type": "code",
      "execution_count": 1,
      "metadata": {
        "colab": {
          "base_uri": "https://localhost:8080/"
        },
        "id": "KnVyTtRXo88d",
        "outputId": "88beade1-cab6-43de-e2ce-664888ab4e50"
      },
      "outputs": [
        {
          "output_type": "stream",
          "name": "stdout",
          "text": [
            "0.31\n"
          ]
        }
      ],
      "source": [
        "import math\n",
        "def calc_f1_score ( tp , fp , fn ):\n",
        "  precision = tp / (tp + fp)\n",
        "  recall = tp / (tp + fn)\n",
        "  return 2 * (precision * recall) / (precision + recall)\n",
        "\n",
        "assert round ( calc_f1_score ( tp =2 , fp =3 , fn =5) , 2) == 0.33\n",
        "print ( round ( calc_f1_score ( tp =2 , fp =4 , fn =5) , 2) )"
      ]
    },
    {
      "cell_type": "markdown",
      "source": [
        "# Function for quesstion 2"
      ],
      "metadata": {
        "id": "kzOsdUwPpr9d"
      }
    },
    {
      "cell_type": "code",
      "source": [
        "import math\n",
        "def is_number (n) :\n",
        "  try:\n",
        "    int(n)\n",
        "    return 1.0\n",
        "  except ValueError:\n",
        "    return 0.0\n",
        "\n",
        "assert is_number (3) == 1.0\n",
        "assert is_number ('-2a') == 0.0\n",
        "print ( is_number (1) )\n",
        "print ( is_number ('n') )"
      ],
      "metadata": {
        "colab": {
          "base_uri": "https://localhost:8080/"
        },
        "id": "hvmR-gmLp0YF",
        "outputId": "b7f7f580-45e7-40b2-b40b-54f197bc66c6"
      },
      "execution_count": 2,
      "outputs": [
        {
          "output_type": "stream",
          "name": "stdout",
          "text": [
            "1.0\n",
            "0.0\n"
          ]
        }
      ]
    },
    {
      "cell_type": "markdown",
      "source": [
        "# Function for question 4"
      ],
      "metadata": {
        "id": "6d6BhwGXqwbo"
      }
    },
    {
      "cell_type": "code",
      "source": [
        "import math\n",
        "def calc_sig ( x ) :\n",
        "  return 1 / (1 + math.exp(-x))\n",
        "\n",
        "assert round ( calc_sig (3) , 2) ==0.95\n",
        "print ( round ( calc_sig (2) , 2) )"
      ],
      "metadata": {
        "colab": {
          "base_uri": "https://localhost:8080/"
        },
        "id": "icBjEMG2q1xk",
        "outputId": "cd7a5253-b0c2-4367-f764-e944df0da1b0"
      },
      "execution_count": 4,
      "outputs": [
        {
          "output_type": "stream",
          "name": "stdout",
          "text": [
            "0.88\n"
          ]
        }
      ]
    },
    {
      "cell_type": "markdown",
      "source": [
        "# Function for question 5"
      ],
      "metadata": {
        "id": "gjnfa1WRrI2h"
      }
    },
    {
      "cell_type": "code",
      "source": [
        "import math\n",
        "def calc_elu ( x ) :\n",
        "  if x <= 0:\n",
        "    return 0.01 * (math.exp(x) - 1)\n",
        "  else:\n",
        "    return x\n",
        "\n",
        "assert round ( calc_elu (1) ) ==1\n",
        "print ( round ( calc_elu ( -1) , 2) )"
      ],
      "metadata": {
        "colab": {
          "base_uri": "https://localhost:8080/"
        },
        "id": "1blEF_MrrLr-",
        "outputId": "5cf503e6-98da-4062-80ca-e5a35eb06a72"
      },
      "execution_count": 5,
      "outputs": [
        {
          "output_type": "stream",
          "name": "stdout",
          "text": [
            "-0.01\n"
          ]
        }
      ]
    },
    {
      "cell_type": "markdown",
      "source": [
        "# Function for question 6"
      ],
      "metadata": {
        "id": "2Q9ZIxnLriWe"
      }
    },
    {
      "cell_type": "code",
      "source": [
        "import math\n",
        "def calc_activation_func (x , act_name ) :\n",
        "  if act_name == 'sigmoid':\n",
        "    return 1 / (1 + math.exp(-x))\n",
        "  elif act_name == 'relu':\n",
        "    if x <=0:\n",
        "      return 0.0\n",
        "    else :\n",
        "      return x\n",
        "  elif act_name == 'elu':\n",
        "    if x <= 0:\n",
        "      return 0.01 * (math.exp(x) - 1)\n",
        "    else:\n",
        "      return x\n",
        "\n",
        "assert calc_activation_func ( x = 1 , act_name ='relu') == 1\n",
        "print ( round ( calc_activation_func (x = 3 , act_name ='sigmoid') , 2) )"
      ],
      "metadata": {
        "colab": {
          "base_uri": "https://localhost:8080/"
        },
        "id": "q0-7Xuukrlia",
        "outputId": "973f806d-96eb-4fbd-e23a-9c765e40fcce"
      },
      "execution_count": 6,
      "outputs": [
        {
          "output_type": "stream",
          "name": "stdout",
          "text": [
            "0.95\n"
          ]
        }
      ]
    },
    {
      "cell_type": "markdown",
      "source": [
        "# Function for question 7"
      ],
      "metadata": {
        "id": "fu86YjXisgXO"
      }
    },
    {
      "cell_type": "code",
      "source": [
        "def calc_ae (y , y_hat ) :\n",
        "  return abs(y - y_hat)\n",
        "y = 1\n",
        "y_hat = 6\n",
        "assert calc_ae (y , y_hat ) ==5\n",
        "y = 2\n",
        "y_hat = 9\n",
        "print ( calc_ae (y , y_hat ) )"
      ],
      "metadata": {
        "colab": {
          "base_uri": "https://localhost:8080/"
        },
        "id": "sko4ggUrsjAp",
        "outputId": "5cbfc845-a9bd-4d89-d10f-e27a10109f97"
      },
      "execution_count": 7,
      "outputs": [
        {
          "output_type": "stream",
          "name": "stdout",
          "text": [
            "7\n"
          ]
        }
      ]
    },
    {
      "cell_type": "markdown",
      "source": [
        "#Function for question 8"
      ],
      "metadata": {
        "id": "ovQQUQd9sxsu"
      }
    },
    {
      "cell_type": "code",
      "source": [
        "def calc_se (y , y_hat ) :\n",
        "  return (y - y_hat)**2\n",
        "y = 4\n",
        "y_hat = 2\n",
        "assert calc_se (y , y_hat ) == 4\n",
        "print ( calc_se (2 , 1) )"
      ],
      "metadata": {
        "colab": {
          "base_uri": "https://localhost:8080/"
        },
        "id": "re0OECcjs0SP",
        "outputId": "5cae31e4-6586-4732-cc37-b86e3a6215d3"
      },
      "execution_count": 8,
      "outputs": [
        {
          "output_type": "stream",
          "name": "stdout",
          "text": [
            "1\n"
          ]
        }
      ]
    },
    {
      "cell_type": "markdown",
      "source": [
        "# Function for question 9"
      ],
      "metadata": {
        "id": "1dq-XQZDs-G2"
      }
    },
    {
      "cell_type": "code",
      "source": [
        "def approx_cos (x , n ) :\n",
        "  res = 0\n",
        "  for i in range(0, n+1):\n",
        "    res += (-1)**i * x**(2 * i)/math.factorial(2 * i)\n",
        "  return res\n",
        "\n",
        "assert round ( approx_cos ( x =1 , n =10) , 2) == 0.54\n",
        "print ( round ( approx_cos ( x =3.14 , n =10) , 2) )"
      ],
      "metadata": {
        "colab": {
          "base_uri": "https://localhost:8080/"
        },
        "id": "5s1peaM6s__h",
        "outputId": "7a31faeb-33cc-4abc-8d8e-abf14501fe56"
      },
      "execution_count": 10,
      "outputs": [
        {
          "output_type": "stream",
          "name": "stdout",
          "text": [
            "-1.0\n"
          ]
        }
      ]
    },
    {
      "cell_type": "markdown",
      "source": [
        "# Function for question 10"
      ],
      "metadata": {
        "id": "pYSHOArBt4Dt"
      }
    },
    {
      "cell_type": "code",
      "source": [
        "def approx_sin (x , n ) :\n",
        "  res = 0\n",
        "  for i in range(0, n+1):\n",
        "    res += (-1)**i * x**(2 * i + 1)/math.factorial(2 * i + 1)\n",
        "  return res\n",
        "\n",
        "assert round ( approx_sin ( x =1 , n =10) , 4) ==0.8415\n",
        "print ( round ( approx_sin ( x =3.14 , n =10) , 4) )"
      ],
      "metadata": {
        "colab": {
          "base_uri": "https://localhost:8080/"
        },
        "id": "DaTecygJt6Fd",
        "outputId": "38fc0364-43eb-43c1-a52b-9f8769f44b3e"
      },
      "execution_count": 12,
      "outputs": [
        {
          "output_type": "stream",
          "name": "stdout",
          "text": [
            "0.0016\n"
          ]
        }
      ]
    },
    {
      "cell_type": "markdown",
      "source": [
        "# Function for question 11"
      ],
      "metadata": {
        "id": "MgpDTKKzuQkt"
      }
    },
    {
      "cell_type": "code",
      "source": [
        "def approx_sinh (x , n ) :\n",
        "  res = 0\n",
        "  for i in range(0, n+1):\n",
        "    res +=  x**(2 * i + 1)/math.factorial(2 * i + 1)\n",
        "  return res\n",
        "\n",
        "assert round ( approx_sinh ( x =1 , n =10) , 2) ==1.18\n",
        "print ( round ( approx_sinh ( x =3.14 , n =10) , 2) )"
      ],
      "metadata": {
        "colab": {
          "base_uri": "https://localhost:8080/"
        },
        "id": "6B2CgNz9uCS1",
        "outputId": "58b90f72-57ca-46ea-fa2a-ce3f8b59893f"
      },
      "execution_count": 13,
      "outputs": [
        {
          "output_type": "stream",
          "name": "stdout",
          "text": [
            "11.53\n"
          ]
        }
      ]
    },
    {
      "cell_type": "markdown",
      "source": [
        "# Function for question 12"
      ],
      "metadata": {
        "id": "nnzJ4Secuj22"
      }
    },
    {
      "cell_type": "code",
      "source": [
        "def approx_cosh (x , n ) :\n",
        "  res = 0\n",
        "  for i in range(0, n+1):\n",
        "    res +=  x**(2 * i)/math.factorial(2 * i)\n",
        "  return res\n",
        "\n",
        "assert round ( approx_cosh ( x =1 , n =10) , 2) ==1.54\n",
        "print ( round ( approx_cosh ( x =3.14 , n =10) , 2) )"
      ],
      "metadata": {
        "colab": {
          "base_uri": "https://localhost:8080/"
        },
        "id": "MAPY14MXul2N",
        "outputId": "fadabc08-5c19-4a9b-e48d-18e3fc4c8018"
      },
      "execution_count": 14,
      "outputs": [
        {
          "output_type": "stream",
          "name": "stdout",
          "text": [
            "11.57\n"
          ]
        }
      ]
    },
    {
      "cell_type": "markdown",
      "source": [
        "# Function for question 13\n"
      ],
      "metadata": {
        "id": "jsZ6vNbzuwwc"
      }
    },
    {
      "cell_type": "code",
      "source": [
        "def md_nre_single_sample (y , y_hat , n , p) :\n",
        "  y_root = y ** (1/ n )\n",
        "  y_hat_root = y_hat ** (1/ n )\n",
        "  difference = y_root - y_hat_root\n",
        "  loss = difference ** p\n",
        "  return loss"
      ],
      "metadata": {
        "id": "GAG0kMa7u1Zr"
      },
      "execution_count": null,
      "outputs": []
    }
  ]
}